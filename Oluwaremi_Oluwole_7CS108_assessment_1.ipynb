{
 "cells": [
  {
   "metadata": {},
   "cell_type": "markdown",
   "source": [
    "Assessment notebook 1\n",
    "Data source: https://www.kaggle.com/datasets/priyamchoksi/credit-card-transactions-dataset/data"
   ],
   "id": "e29e49e5d0e3246"
  },
  {
   "metadata": {
    "ExecuteTime": {
     "end_time": "2025-05-06T04:45:15.250228Z",
     "start_time": "2025-05-06T04:45:14.472312Z"
    }
   },
   "cell_type": "code",
   "source": [
    "# Import packages\n",
    "import pandas as pd\n",
    "import random\n",
    "from datetime import datetime\n",
    "import joblib\n",
    "from sklearn.model_selection import train_test_split\n",
    "from sklearn.pipeline import Pipeline\n",
    "from sklearn.metrics import accuracy_score\n",
    "from sklearn.svm import SVC\n",
    "from sklearn.tree import DecisionTreeClassifier\n",
    "from sklearn.ensemble import RandomForestClassifier, RandomForestRegressor\n",
    "from sklearn.neighbors import KNeighborsClassifier\n",
    "from sklearn.model_selection import GridSearchCV\n",
    "from sklearn.ensemble import RandomForestRegressor"
   ],
   "id": "ae4215f96e6bfa53",
   "outputs": [],
   "execution_count": 15
  },
  {
   "metadata": {
    "ExecuteTime": {
     "end_time": "2025-05-06T04:45:26.883774Z",
     "start_time": "2025-05-06T04:45:16.658598Z"
    }
   },
   "cell_type": "code",
   "source": [
    "# Read data\n",
    "df = pd.read_csv(\"credit_card_transactions.csv\")\n",
    "\n",
    "df.shape"
   ],
   "id": "bcd36086c6e11ed",
   "outputs": [
    {
     "data": {
      "text/plain": [
       "(1048575, 24)"
      ]
     },
     "execution_count": 16,
     "metadata": {},
     "output_type": "execute_result"
    }
   ],
   "execution_count": 16
  },
  {
   "metadata": {
    "ExecuteTime": {
     "end_time": "2025-05-06T04:45:27.492974Z",
     "start_time": "2025-05-06T04:45:27.182648Z"
    }
   },
   "cell_type": "code",
   "source": [
    "# data = df.sample(n= 250000, random_state = 48)\n",
    "data = df.copy()"
   ],
   "id": "58ce6760fcc8bd29",
   "outputs": [],
   "execution_count": 17
  },
  {
   "metadata": {
    "ExecuteTime": {
     "end_time": "2025-05-06T04:45:28.348528Z",
     "start_time": "2025-05-06T04:45:27.698016Z"
    }
   },
   "cell_type": "code",
   "source": [
    "# drop unneeded columns\n",
    "data = data.drop(columns=['Unnamed: 0','cc_num','first','last','street','city','state','zip','lat','long','city_pop','trans_num','unix_time','merch_lat','merch_long','merch_zipcode'])\n",
    "data.head()"
   ],
   "id": "499610dcd9acdd2a",
   "outputs": [
    {
     "data": {
      "text/plain": [
       "  trans_date_trans_time                            merchant       category  \\\n",
       "0         1/1/2019 0:00          fraud_Rippin, Kub and Mann       misc_net   \n",
       "1         1/1/2019 0:00     fraud_Heller, Gutmann and Zieme    grocery_pos   \n",
       "2         1/1/2019 0:00                fraud_Lind-Buckridge  entertainment   \n",
       "3         1/1/2019 0:01  fraud_Kutch, Hermiston and Farrell  gas_transport   \n",
       "4         1/1/2019 0:03                 fraud_Keeling-Crist       misc_pos   \n",
       "\n",
       "      amt gender                                job        dob  is_fraud  \n",
       "0    4.97      F          Psychologist, counselling   3/9/1988         0  \n",
       "1  107.23      F  Special educational needs teacher  6/21/1978         0  \n",
       "2  220.11      M        Nature conservation officer  1/19/1962         0  \n",
       "3   45.00      M                    Patent attorney  1/12/1967         0  \n",
       "4   41.96      M     Dance movement psychotherapist  3/28/1986         0  "
      ],
      "text/html": [
       "<div>\n",
       "<style scoped>\n",
       "    .dataframe tbody tr th:only-of-type {\n",
       "        vertical-align: middle;\n",
       "    }\n",
       "\n",
       "    .dataframe tbody tr th {\n",
       "        vertical-align: top;\n",
       "    }\n",
       "\n",
       "    .dataframe thead th {\n",
       "        text-align: right;\n",
       "    }\n",
       "</style>\n",
       "<table border=\"1\" class=\"dataframe\">\n",
       "  <thead>\n",
       "    <tr style=\"text-align: right;\">\n",
       "      <th></th>\n",
       "      <th>trans_date_trans_time</th>\n",
       "      <th>merchant</th>\n",
       "      <th>category</th>\n",
       "      <th>amt</th>\n",
       "      <th>gender</th>\n",
       "      <th>job</th>\n",
       "      <th>dob</th>\n",
       "      <th>is_fraud</th>\n",
       "    </tr>\n",
       "  </thead>\n",
       "  <tbody>\n",
       "    <tr>\n",
       "      <th>0</th>\n",
       "      <td>1/1/2019 0:00</td>\n",
       "      <td>fraud_Rippin, Kub and Mann</td>\n",
       "      <td>misc_net</td>\n",
       "      <td>4.97</td>\n",
       "      <td>F</td>\n",
       "      <td>Psychologist, counselling</td>\n",
       "      <td>3/9/1988</td>\n",
       "      <td>0</td>\n",
       "    </tr>\n",
       "    <tr>\n",
       "      <th>1</th>\n",
       "      <td>1/1/2019 0:00</td>\n",
       "      <td>fraud_Heller, Gutmann and Zieme</td>\n",
       "      <td>grocery_pos</td>\n",
       "      <td>107.23</td>\n",
       "      <td>F</td>\n",
       "      <td>Special educational needs teacher</td>\n",
       "      <td>6/21/1978</td>\n",
       "      <td>0</td>\n",
       "    </tr>\n",
       "    <tr>\n",
       "      <th>2</th>\n",
       "      <td>1/1/2019 0:00</td>\n",
       "      <td>fraud_Lind-Buckridge</td>\n",
       "      <td>entertainment</td>\n",
       "      <td>220.11</td>\n",
       "      <td>M</td>\n",
       "      <td>Nature conservation officer</td>\n",
       "      <td>1/19/1962</td>\n",
       "      <td>0</td>\n",
       "    </tr>\n",
       "    <tr>\n",
       "      <th>3</th>\n",
       "      <td>1/1/2019 0:01</td>\n",
       "      <td>fraud_Kutch, Hermiston and Farrell</td>\n",
       "      <td>gas_transport</td>\n",
       "      <td>45.00</td>\n",
       "      <td>M</td>\n",
       "      <td>Patent attorney</td>\n",
       "      <td>1/12/1967</td>\n",
       "      <td>0</td>\n",
       "    </tr>\n",
       "    <tr>\n",
       "      <th>4</th>\n",
       "      <td>1/1/2019 0:03</td>\n",
       "      <td>fraud_Keeling-Crist</td>\n",
       "      <td>misc_pos</td>\n",
       "      <td>41.96</td>\n",
       "      <td>M</td>\n",
       "      <td>Dance movement psychotherapist</td>\n",
       "      <td>3/28/1986</td>\n",
       "      <td>0</td>\n",
       "    </tr>\n",
       "  </tbody>\n",
       "</table>\n",
       "</div>"
      ]
     },
     "execution_count": 18,
     "metadata": {},
     "output_type": "execute_result"
    }
   ],
   "execution_count": 18
  },
  {
   "metadata": {
    "ExecuteTime": {
     "end_time": "2025-05-06T04:45:32.235382Z",
     "start_time": "2025-05-06T04:45:31.933379Z"
    }
   },
   "cell_type": "code",
   "source": [
    "# remove null values\n",
    "data = data.dropna()"
   ],
   "id": "e4355853f80667ea",
   "outputs": [],
   "execution_count": 19
  },
  {
   "metadata": {
    "ExecuteTime": {
     "end_time": "2025-05-06T04:45:36.593878Z",
     "start_time": "2025-05-06T04:45:32.298038Z"
    }
   },
   "cell_type": "code",
   "source": [
    "# convert dob to age\n",
    "def dob_to_age(dob):\n",
    "    return datetime.now().year - dob.year\n",
    "\n",
    "data['dob'] = pd.to_datetime(data['dob'])\n",
    "data['age'] = data['dob'].apply(dob_to_age)\n",
    "# df['age'] = df['dob'].apply(lambda x: datetime.now().year - x.year)\n",
    "\n",
    "data = data.drop(columns=['dob'])\n",
    "data.head()"
   ],
   "id": "f6803e73ced669f5",
   "outputs": [
    {
     "data": {
      "text/plain": [
       "  trans_date_trans_time                            merchant       category  \\\n",
       "0         1/1/2019 0:00          fraud_Rippin, Kub and Mann       misc_net   \n",
       "1         1/1/2019 0:00     fraud_Heller, Gutmann and Zieme    grocery_pos   \n",
       "2         1/1/2019 0:00                fraud_Lind-Buckridge  entertainment   \n",
       "3         1/1/2019 0:01  fraud_Kutch, Hermiston and Farrell  gas_transport   \n",
       "4         1/1/2019 0:03                 fraud_Keeling-Crist       misc_pos   \n",
       "\n",
       "      amt gender                                job  is_fraud  age  \n",
       "0    4.97      F          Psychologist, counselling         0   37  \n",
       "1  107.23      F  Special educational needs teacher         0   47  \n",
       "2  220.11      M        Nature conservation officer         0   63  \n",
       "3   45.00      M                    Patent attorney         0   58  \n",
       "4   41.96      M     Dance movement psychotherapist         0   39  "
      ],
      "text/html": [
       "<div>\n",
       "<style scoped>\n",
       "    .dataframe tbody tr th:only-of-type {\n",
       "        vertical-align: middle;\n",
       "    }\n",
       "\n",
       "    .dataframe tbody tr th {\n",
       "        vertical-align: top;\n",
       "    }\n",
       "\n",
       "    .dataframe thead th {\n",
       "        text-align: right;\n",
       "    }\n",
       "</style>\n",
       "<table border=\"1\" class=\"dataframe\">\n",
       "  <thead>\n",
       "    <tr style=\"text-align: right;\">\n",
       "      <th></th>\n",
       "      <th>trans_date_trans_time</th>\n",
       "      <th>merchant</th>\n",
       "      <th>category</th>\n",
       "      <th>amt</th>\n",
       "      <th>gender</th>\n",
       "      <th>job</th>\n",
       "      <th>is_fraud</th>\n",
       "      <th>age</th>\n",
       "    </tr>\n",
       "  </thead>\n",
       "  <tbody>\n",
       "    <tr>\n",
       "      <th>0</th>\n",
       "      <td>1/1/2019 0:00</td>\n",
       "      <td>fraud_Rippin, Kub and Mann</td>\n",
       "      <td>misc_net</td>\n",
       "      <td>4.97</td>\n",
       "      <td>F</td>\n",
       "      <td>Psychologist, counselling</td>\n",
       "      <td>0</td>\n",
       "      <td>37</td>\n",
       "    </tr>\n",
       "    <tr>\n",
       "      <th>1</th>\n",
       "      <td>1/1/2019 0:00</td>\n",
       "      <td>fraud_Heller, Gutmann and Zieme</td>\n",
       "      <td>grocery_pos</td>\n",
       "      <td>107.23</td>\n",
       "      <td>F</td>\n",
       "      <td>Special educational needs teacher</td>\n",
       "      <td>0</td>\n",
       "      <td>47</td>\n",
       "    </tr>\n",
       "    <tr>\n",
       "      <th>2</th>\n",
       "      <td>1/1/2019 0:00</td>\n",
       "      <td>fraud_Lind-Buckridge</td>\n",
       "      <td>entertainment</td>\n",
       "      <td>220.11</td>\n",
       "      <td>M</td>\n",
       "      <td>Nature conservation officer</td>\n",
       "      <td>0</td>\n",
       "      <td>63</td>\n",
       "    </tr>\n",
       "    <tr>\n",
       "      <th>3</th>\n",
       "      <td>1/1/2019 0:01</td>\n",
       "      <td>fraud_Kutch, Hermiston and Farrell</td>\n",
       "      <td>gas_transport</td>\n",
       "      <td>45.00</td>\n",
       "      <td>M</td>\n",
       "      <td>Patent attorney</td>\n",
       "      <td>0</td>\n",
       "      <td>58</td>\n",
       "    </tr>\n",
       "    <tr>\n",
       "      <th>4</th>\n",
       "      <td>1/1/2019 0:03</td>\n",
       "      <td>fraud_Keeling-Crist</td>\n",
       "      <td>misc_pos</td>\n",
       "      <td>41.96</td>\n",
       "      <td>M</td>\n",
       "      <td>Dance movement psychotherapist</td>\n",
       "      <td>0</td>\n",
       "      <td>39</td>\n",
       "    </tr>\n",
       "  </tbody>\n",
       "</table>\n",
       "</div>"
      ]
     },
     "execution_count": 20,
     "metadata": {},
     "output_type": "execute_result"
    }
   ],
   "execution_count": 20
  },
  {
   "metadata": {
    "ExecuteTime": {
     "end_time": "2025-05-06T04:45:36.989884Z",
     "start_time": "2025-05-06T04:45:36.821928Z"
    }
   },
   "cell_type": "code",
   "source": "data['category'].value_counts()",
   "id": "70b4cefb10a5f0c5",
   "outputs": [
    {
     "data": {
      "text/plain": [
       "category\n",
       "gas_transport     106430\n",
       "grocery_pos        99906\n",
       "home               99578\n",
       "shopping_pos       94353\n",
       "kids_pets          91404\n",
       "shopping_net       78899\n",
       "entertainment      75981\n",
       "food_dining        74041\n",
       "personal_care      73498\n",
       "health_fitness     69362\n",
       "misc_pos           64492\n",
       "misc_net           51082\n",
       "grocery_net        36719\n",
       "travel             32830\n",
       "Name: count, dtype: int64"
      ]
     },
     "execution_count": 21,
     "metadata": {},
     "output_type": "execute_result"
    }
   ],
   "execution_count": 21
  },
  {
   "metadata": {
    "ExecuteTime": {
     "end_time": "2025-05-06T04:45:37.221640Z",
     "start_time": "2025-05-06T04:45:37.115154Z"
    }
   },
   "cell_type": "code",
   "source": [
    "# map each category to a numerical value\n",
    "\n",
    "category_mapping = {\n",
    "    'gas_transport': 1,\n",
    "    'grocery_pos': 2,\n",
    "    'home': 3,\n",
    "    'shopping_pos': 4,\n",
    "    'kids_pets': 5,\n",
    "    'shopping_net': 6,\n",
    "    'entertainment': 7,\n",
    "    'food_dining': 8,\n",
    "    'personal_care': 9,\n",
    "    'health_fitness': 10,\n",
    "    'misc_pos': 11,\n",
    "    'misc_net': 12,\n",
    "    'grocery_net': 13,\n",
    "    'travel': 14\n",
    "}\n",
    "data['category'] = data['category'].map(category_mapping)"
   ],
   "id": "f07f199873bbca15",
   "outputs": [],
   "execution_count": 22
  },
  {
   "metadata": {
    "ExecuteTime": {
     "end_time": "2025-05-06T04:45:37.526865Z",
     "start_time": "2025-05-06T04:45:37.457380Z"
    }
   },
   "cell_type": "code",
   "source": [
    "# Map each gender value to a numerical value\n",
    "sex_mapping = {'F':1, 'M':2}\n",
    "\n",
    "# create SexGroup column\n",
    "data['gender']=data['gender'].map(sex_mapping)"
   ],
   "id": "e72dcfdfe4361a3e",
   "outputs": [],
   "execution_count": 23
  },
  {
   "metadata": {
    "ExecuteTime": {
     "end_time": "2025-05-06T04:45:39.479444Z",
     "start_time": "2025-05-06T04:45:37.653286Z"
    }
   },
   "cell_type": "code",
   "source": [
    "# break down transaction timestamp into day and month\n",
    "data['trans_date_trans_time'] = pd.to_datetime(data['trans_date_trans_time'], errors='coerce')\n",
    "data['transaction_month'] = data['trans_date_trans_time'].dt.month\n",
    "data['transaction_day'] = data['trans_date_trans_time'].dt.day"
   ],
   "id": "1d056df8b95de3f0",
   "outputs": [],
   "execution_count": 24
  },
  {
   "metadata": {
    "ExecuteTime": {
     "end_time": "2025-05-06T04:45:39.635313Z",
     "start_time": "2025-05-06T04:45:39.509286Z"
    }
   },
   "cell_type": "code",
   "source": [
    "# Example bin ranges (adjust if needed)\n",
    "bins = [0, 150, 500, float('inf')]\n",
    "labels = ['1', '2', '3']\n",
    "# labels = ['Very Low', 'Low', 'Medium', 'High', 'Very High']\n",
    "\n",
    "# Create a new classification target\n",
    "data['amt_class'] = pd.cut(data['amt'], bins=bins, labels=labels)\n",
    "# data['amt_class'] = pd.cut(data['amt'], bins=3, labels=labels)\n",
    "data = data.dropna(subset=['amt_class'])\n",
    "data.head()"
   ],
   "id": "f2734fca5b70a957",
   "outputs": [
    {
     "data": {
      "text/plain": [
       "  trans_date_trans_time                            merchant  category     amt  \\\n",
       "0   2019-01-01 00:00:00          fraud_Rippin, Kub and Mann        12    4.97   \n",
       "1   2019-01-01 00:00:00     fraud_Heller, Gutmann and Zieme         2  107.23   \n",
       "2   2019-01-01 00:00:00                fraud_Lind-Buckridge         7  220.11   \n",
       "3   2019-01-01 00:01:00  fraud_Kutch, Hermiston and Farrell         1   45.00   \n",
       "4   2019-01-01 00:03:00                 fraud_Keeling-Crist        11   41.96   \n",
       "\n",
       "   gender                                job  is_fraud  age  \\\n",
       "0       1          Psychologist, counselling         0   37   \n",
       "1       1  Special educational needs teacher         0   47   \n",
       "2       2        Nature conservation officer         0   63   \n",
       "3       2                    Patent attorney         0   58   \n",
       "4       2     Dance movement psychotherapist         0   39   \n",
       "\n",
       "   transaction_month  transaction_day amt_class  \n",
       "0                  1                1         1  \n",
       "1                  1                1         1  \n",
       "2                  1                1         2  \n",
       "3                  1                1         1  \n",
       "4                  1                1         1  "
      ],
      "text/html": [
       "<div>\n",
       "<style scoped>\n",
       "    .dataframe tbody tr th:only-of-type {\n",
       "        vertical-align: middle;\n",
       "    }\n",
       "\n",
       "    .dataframe tbody tr th {\n",
       "        vertical-align: top;\n",
       "    }\n",
       "\n",
       "    .dataframe thead th {\n",
       "        text-align: right;\n",
       "    }\n",
       "</style>\n",
       "<table border=\"1\" class=\"dataframe\">\n",
       "  <thead>\n",
       "    <tr style=\"text-align: right;\">\n",
       "      <th></th>\n",
       "      <th>trans_date_trans_time</th>\n",
       "      <th>merchant</th>\n",
       "      <th>category</th>\n",
       "      <th>amt</th>\n",
       "      <th>gender</th>\n",
       "      <th>job</th>\n",
       "      <th>is_fraud</th>\n",
       "      <th>age</th>\n",
       "      <th>transaction_month</th>\n",
       "      <th>transaction_day</th>\n",
       "      <th>amt_class</th>\n",
       "    </tr>\n",
       "  </thead>\n",
       "  <tbody>\n",
       "    <tr>\n",
       "      <th>0</th>\n",
       "      <td>2019-01-01 00:00:00</td>\n",
       "      <td>fraud_Rippin, Kub and Mann</td>\n",
       "      <td>12</td>\n",
       "      <td>4.97</td>\n",
       "      <td>1</td>\n",
       "      <td>Psychologist, counselling</td>\n",
       "      <td>0</td>\n",
       "      <td>37</td>\n",
       "      <td>1</td>\n",
       "      <td>1</td>\n",
       "      <td>1</td>\n",
       "    </tr>\n",
       "    <tr>\n",
       "      <th>1</th>\n",
       "      <td>2019-01-01 00:00:00</td>\n",
       "      <td>fraud_Heller, Gutmann and Zieme</td>\n",
       "      <td>2</td>\n",
       "      <td>107.23</td>\n",
       "      <td>1</td>\n",
       "      <td>Special educational needs teacher</td>\n",
       "      <td>0</td>\n",
       "      <td>47</td>\n",
       "      <td>1</td>\n",
       "      <td>1</td>\n",
       "      <td>1</td>\n",
       "    </tr>\n",
       "    <tr>\n",
       "      <th>2</th>\n",
       "      <td>2019-01-01 00:00:00</td>\n",
       "      <td>fraud_Lind-Buckridge</td>\n",
       "      <td>7</td>\n",
       "      <td>220.11</td>\n",
       "      <td>2</td>\n",
       "      <td>Nature conservation officer</td>\n",
       "      <td>0</td>\n",
       "      <td>63</td>\n",
       "      <td>1</td>\n",
       "      <td>1</td>\n",
       "      <td>2</td>\n",
       "    </tr>\n",
       "    <tr>\n",
       "      <th>3</th>\n",
       "      <td>2019-01-01 00:01:00</td>\n",
       "      <td>fraud_Kutch, Hermiston and Farrell</td>\n",
       "      <td>1</td>\n",
       "      <td>45.00</td>\n",
       "      <td>2</td>\n",
       "      <td>Patent attorney</td>\n",
       "      <td>0</td>\n",
       "      <td>58</td>\n",
       "      <td>1</td>\n",
       "      <td>1</td>\n",
       "      <td>1</td>\n",
       "    </tr>\n",
       "    <tr>\n",
       "      <th>4</th>\n",
       "      <td>2019-01-01 00:03:00</td>\n",
       "      <td>fraud_Keeling-Crist</td>\n",
       "      <td>11</td>\n",
       "      <td>41.96</td>\n",
       "      <td>2</td>\n",
       "      <td>Dance movement psychotherapist</td>\n",
       "      <td>0</td>\n",
       "      <td>39</td>\n",
       "      <td>1</td>\n",
       "      <td>1</td>\n",
       "      <td>1</td>\n",
       "    </tr>\n",
       "  </tbody>\n",
       "</table>\n",
       "</div>"
      ]
     },
     "execution_count": 25,
     "metadata": {},
     "output_type": "execute_result"
    }
   ],
   "execution_count": 25
  },
  {
   "metadata": {
    "ExecuteTime": {
     "end_time": "2025-05-06T04:45:39.873212Z",
     "start_time": "2025-05-06T04:45:39.706876Z"
    }
   },
   "cell_type": "code",
   "source": [
    "# fit models with 80% of the training data and  predict for 20% of the training data.\n",
    "predictors = data.drop(['amt','amt_class','merchant','job','trans_date_trans_time'], axis=1)\n",
    "target = data[\"amt_class\"]\n",
    "x_train, x_val, y_train, y_val = train_test_split(predictors, target, test_size = 0.20, random_state = 48)"
   ],
   "id": "61aab47ae72569d1",
   "outputs": [],
   "execution_count": 26
  },
  {
   "metadata": {
    "ExecuteTime": {
     "end_time": "2025-05-06T04:45:39.943163Z",
     "start_time": "2025-05-06T04:45:39.933900Z"
    }
   },
   "cell_type": "code",
   "source": "predictors.head()",
   "id": "bb3d5d7bb4b76e45",
   "outputs": [
    {
     "data": {
      "text/plain": [
       "   category  gender  is_fraud  age  transaction_month  transaction_day\n",
       "0        12       1         0   37                  1                1\n",
       "1         2       1         0   47                  1                1\n",
       "2         7       2         0   63                  1                1\n",
       "3         1       2         0   58                  1                1\n",
       "4        11       2         0   39                  1                1"
      ],
      "text/html": [
       "<div>\n",
       "<style scoped>\n",
       "    .dataframe tbody tr th:only-of-type {\n",
       "        vertical-align: middle;\n",
       "    }\n",
       "\n",
       "    .dataframe tbody tr th {\n",
       "        vertical-align: top;\n",
       "    }\n",
       "\n",
       "    .dataframe thead th {\n",
       "        text-align: right;\n",
       "    }\n",
       "</style>\n",
       "<table border=\"1\" class=\"dataframe\">\n",
       "  <thead>\n",
       "    <tr style=\"text-align: right;\">\n",
       "      <th></th>\n",
       "      <th>category</th>\n",
       "      <th>gender</th>\n",
       "      <th>is_fraud</th>\n",
       "      <th>age</th>\n",
       "      <th>transaction_month</th>\n",
       "      <th>transaction_day</th>\n",
       "    </tr>\n",
       "  </thead>\n",
       "  <tbody>\n",
       "    <tr>\n",
       "      <th>0</th>\n",
       "      <td>12</td>\n",
       "      <td>1</td>\n",
       "      <td>0</td>\n",
       "      <td>37</td>\n",
       "      <td>1</td>\n",
       "      <td>1</td>\n",
       "    </tr>\n",
       "    <tr>\n",
       "      <th>1</th>\n",
       "      <td>2</td>\n",
       "      <td>1</td>\n",
       "      <td>0</td>\n",
       "      <td>47</td>\n",
       "      <td>1</td>\n",
       "      <td>1</td>\n",
       "    </tr>\n",
       "    <tr>\n",
       "      <th>2</th>\n",
       "      <td>7</td>\n",
       "      <td>2</td>\n",
       "      <td>0</td>\n",
       "      <td>63</td>\n",
       "      <td>1</td>\n",
       "      <td>1</td>\n",
       "    </tr>\n",
       "    <tr>\n",
       "      <th>3</th>\n",
       "      <td>1</td>\n",
       "      <td>2</td>\n",
       "      <td>0</td>\n",
       "      <td>58</td>\n",
       "      <td>1</td>\n",
       "      <td>1</td>\n",
       "    </tr>\n",
       "    <tr>\n",
       "      <th>4</th>\n",
       "      <td>11</td>\n",
       "      <td>2</td>\n",
       "      <td>0</td>\n",
       "      <td>39</td>\n",
       "      <td>1</td>\n",
       "      <td>1</td>\n",
       "    </tr>\n",
       "  </tbody>\n",
       "</table>\n",
       "</div>"
      ]
     },
     "execution_count": 27,
     "metadata": {},
     "output_type": "execute_result"
    }
   ],
   "execution_count": 27
  },
  {
   "metadata": {
    "ExecuteTime": {
     "end_time": "2025-05-06T04:48:32.926940Z",
     "start_time": "2025-05-06T04:45:44.716384Z"
    }
   },
   "cell_type": "code",
   "source": [
    "# Build RandomForestClassifier pipeline\n",
    "rfc_pipeline = Pipeline(steps=[\n",
    "    ('classifier', RandomForestClassifier(n_estimators=100, random_state=48))\n",
    "])\n",
    "\n",
    "# Train the model\n",
    "rfc_pipeline.fit(x_train, y_train)\n",
    "\n",
    "# Predict and evaluate\n",
    "y_pred = rfc_pipeline.predict(x_val)\n",
    "accuracy = accuracy_score(y_val, y_pred)\n",
    "\n",
    "print(\"Predictions:\", y_pred)\n",
    "print(\"Actual Labels:\", y_val)\n",
    "print(\"Test Accuracy:\", accuracy)"
   ],
   "id": "11cbde7f51ebd3ff",
   "outputs": [
    {
     "name": "stdout",
     "output_type": "stream",
     "text": [
      "Predictions: ['1' '1' '1' ... '1' '1' '1']\n",
      "Actual Labels: 202104    1\n",
      "494572    1\n",
      "130746    1\n",
      "345877    1\n",
      "205029    1\n",
      "         ..\n",
      "513090    1\n",
      "382516    1\n",
      "397664    2\n",
      "433410    1\n",
      "488037    1\n",
      "Name: amt_class, Length: 209715, dtype: category\n",
      "Categories (3, object): ['1' < '2' < '3']\n",
      "Test Accuracy: 0.9093865484109387\n"
     ]
    }
   ],
   "execution_count": 28
  }
 ],
 "metadata": {
  "kernelspec": {
   "name": "python3",
   "language": "python",
   "display_name": "Python 3 (ipykernel)"
  }
 },
 "nbformat": 5,
 "nbformat_minor": 9
}
